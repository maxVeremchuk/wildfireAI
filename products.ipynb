{
 "cells": [
  {
   "cell_type": "code",
   "execution_count": 1,
   "metadata": {},
   "outputs": [],
   "source": [
    "from pathlib import Path\n",
    "import yaml\n",
    "\n",
    "\n",
    "def eo3_product_creator(product_name:str, description:str, measurements:list, productPath:str) -> str:\n",
    "    \n",
    "    save_product_path = Path(productPath) / product_name / 'product_definition'\n",
    "    (Path(save_product_path)).mkdir(parents= True, exist_ok=True)\n",
    "    \n",
    "    eo3_prod_dict = {\n",
    "        \n",
    "        \"name\":product_name,\n",
    "        \"description\": description,\n",
    "        \"metadata_type\": \"eo3\",\n",
    "        \n",
    "        \"metadata\":{\n",
    "            \"product\":{\n",
    "                \"name\": product_name}\n",
    "                },\n",
    "        \n",
    "        \"measurements\": measurements\n",
    "    \n",
    "        }\n",
    "    \n",
    "    product_definition_path =  str(save_product_path/f\"{product_name}_product_definition.yml\")\n",
    "\n",
    "    with open(product_definition_path, \"w\") as dest:\n",
    "        yaml.dump(eo3_prod_dict, dest, explicit_start=True,sort_keys=False)\n",
    "        \n",
    "    return product_definition_path"
   ]
  },
  {
   "cell_type": "code",
   "execution_count": 3,
   "metadata": {},
   "outputs": [],
   "source": [
    "description = \"\"\"MODIS\"\"\"\n",
    "\n",
    "measurements = [{\"name\": 'NDVI',\n",
    "                 \"aliases\": ['NormalizedDifferenceVegetationIndex'],\n",
    "                 \"units\": 'surface_reflectance',\n",
    "                 \"dtype\": 'int16',\n",
    "                 \"nodata\": -3000}]\n",
    "    \n",
    "    "
   ]
  },
  {
   "cell_type": "code",
   "execution_count": 4,
   "metadata": {},
   "outputs": [],
   "source": [
    "PRODUCT_PATH = \"./modis_tif\""
   ]
  },
  {
   "cell_type": "code",
   "execution_count": 5,
   "metadata": {},
   "outputs": [],
   "source": [
    "product_definition_path = eo3_product_creator(product_name=\"modis_ndvi\", description=description, measurements=measurements, productPath=PRODUCT_PATH)"
   ]
  },
  {
   "cell_type": "code",
   "execution_count": 6,
   "metadata": {},
   "outputs": [],
   "source": [
    "description = \"\"\"MODIS 8 days 500m\"\"\"\n",
    "\n",
    "measurements = [{\"name\": 'lai',\n",
    "                 \"units\": 'surface_reflectance',\n",
    "                 \"dtype\": 'int16',\n",
    "                 \"nodata\": -3000}]\n",
    "    \n",
    "    "
   ]
  },
  {
   "cell_type": "code",
   "execution_count": 7,
   "metadata": {},
   "outputs": [],
   "source": [
    "product_definition_path = eo3_product_creator(product_name=\"modis_lai\", description=description, measurements=measurements, productPath=PRODUCT_PATH)"
   ]
  },
  {
   "cell_type": "code",
   "execution_count": 8,
   "metadata": {},
   "outputs": [],
   "source": [
    "PRODUCT_PATH = \"./era_tif\""
   ]
  },
  {
   "cell_type": "code",
   "execution_count": 9,
   "metadata": {},
   "outputs": [],
   "source": [
    "description = \"\"\"ERA5\"\"\"\n",
    "\n",
    "measurements = [            {'name': 't2m',\n",
    "                                 'aliases': ['TMP','2m_temperature'],\n",
    "                                 'dtype': 'float32',\n",
    "                                 'nodata': -32767,\n",
    "                                 'units': 'K'},                                                 \n",
    "                           {'name': 'u10',\n",
    "                                 'aliases': ['UGRD','10m_u_component_of_wind'],\n",
    "                                 'dtype': 'float32',\n",
    "                                 'nodata': -32767,\n",
    "                                 'units': 'm s**-1'},                                                                         \n",
    "                           {'name': 'v10',\n",
    "                                 'aliases': ['VGRD','10m_v_component_of_wind'],\n",
    "                                 'dtype': 'float32',\n",
    "                                 'nodata': -32767,\n",
    "                                 'units': 'm s**-1'},                          \n",
    "                           {'name': 'tp',\n",
    "                                 'aliases': ['APCP','total_precipitation'],\n",
    "                                 'dtype': 'float32',\n",
    "                                 'nodata': -32767,\n",
    "                                 'units': 'm'},                        \n",
    "                           {'name': 'd2m',\n",
    "                                 'aliases': ['2m_dewpoint_temperature'],\n",
    "                                 'dtype': 'float32',\n",
    "                                 'nodata': -32767,\n",
    "                                 'units': 'K'},                    \n",
    "                           ]\n",
    "    \n",
    "    "
   ]
  },
  {
   "cell_type": "code",
   "execution_count": 10,
   "metadata": {},
   "outputs": [],
   "source": [
    "product_definition_path = eo3_product_creator(product_name=\"era5\", description=description, measurements=measurements, productPath=PRODUCT_PATH)"
   ]
  },
  {
   "cell_type": "code",
   "execution_count": null,
   "metadata": {},
   "outputs": [],
   "source": []
  },
  {
   "cell_type": "code",
   "execution_count": null,
   "metadata": {},
   "outputs": [],
   "source": []
  },
  {
   "cell_type": "code",
   "execution_count": 5,
   "metadata": {},
   "outputs": [],
   "source": [
    "PRODUCT_PATH = \"./roads_tif\""
   ]
  },
  {
   "cell_type": "code",
   "execution_count": 6,
   "metadata": {},
   "outputs": [],
   "source": [
    "description = \"\"\"Roads\"\"\"\n",
    "\n",
    "measurements = [{\"name\": 'roads',\n",
    "                 \"units\": 'm',\n",
    "                 \"dtype\": 'float32',\n",
    "                 \"nodata\": -3000}]\n",
    "    \n",
    "    "
   ]
  },
  {
   "cell_type": "code",
   "execution_count": 7,
   "metadata": {},
   "outputs": [],
   "source": [
    "product_definition_path = eo3_product_creator(product_name=\"roads\", description=description, measurements=measurements, productPath=PRODUCT_PATH)"
   ]
  },
  {
   "cell_type": "code",
   "execution_count": 8,
   "metadata": {},
   "outputs": [],
   "source": [
    "PRODUCT_PATH = \"./pop_tif\"\n",
    "description = \"\"\"Population\"\"\"\n",
    "\n",
    "measurements = [{\"name\": 'pop',\n",
    "                 \"units\": 'density',\n",
    "                 \"dtype\": 'float32',\n",
    "                 \"nodata\": -3000}]\n",
    "    \n",
    "    "
   ]
  },
  {
   "cell_type": "code",
   "execution_count": 9,
   "metadata": {},
   "outputs": [],
   "source": [
    "product_definition_path = eo3_product_creator(product_name=\"pop\", description=description, measurements=measurements, productPath=PRODUCT_PATH)"
   ]
  },
  {
   "cell_type": "code",
   "execution_count": null,
   "metadata": {},
   "outputs": [],
   "source": []
  }
 ],
 "metadata": {
  "kernelspec": {
   "display_name": "base",
   "language": "python",
   "name": "python3"
  },
  "language_info": {
   "codemirror_mode": {
    "name": "ipython",
    "version": 3
   },
   "file_extension": ".py",
   "mimetype": "text/x-python",
   "name": "python",
   "nbconvert_exporter": "python",
   "pygments_lexer": "ipython3",
   "version": "3.8.12"
  }
 },
 "nbformat": 4,
 "nbformat_minor": 2
}
