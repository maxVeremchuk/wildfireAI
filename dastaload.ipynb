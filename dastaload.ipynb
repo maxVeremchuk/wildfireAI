{
 "cells": [
  {
   "cell_type": "code",
   "execution_count": 1,
   "metadata": {},
   "outputs": [
    {
     "name": "stderr",
     "output_type": "stream",
     "text": [
      "c:\\Users\\maxim\\anaconda3\\lib\\site-packages\\numpy\\_distributor_init.py:30: UserWarning: loaded more than 1 DLL from .libs:\n",
      "c:\\Users\\maxim\\anaconda3\\lib\\site-packages\\numpy\\.libs\\libopenblas.EL2C6PLE4ZYW3ECEVIV3OXXGRN2NRFM2.gfortran-win_amd64.dll\n",
      "c:\\Users\\maxim\\anaconda3\\lib\\site-packages\\numpy\\.libs\\libopenblas.WCDJNK7YVMPZQ2ME2ZZHJJRJ3JIKNDB7.gfortran-win_amd64.dll\n",
      "  warnings.warn(\"loaded more than 1 DLL from .libs:\"\n"
     ]
    }
   ],
   "source": [
    "from pymodis import downmodis\n",
    "import os"
   ]
  },
  {
   "cell_type": "code",
   "execution_count": 2,
   "metadata": {},
   "outputs": [],
   "source": [
    "def download_modis(output_folder='./modis', tiles=[\"h10v03\", \"h10v04\", \"h11v03\", \"h12v03\"],\n",
    "                   fromdate=\"2006-01-01\", todate=\"2010-01-01\",\n",
    "                   products=['MOD11A1.061']):#['MOD15A2H.061', 'MOD13A2.061']):#'MOD11A1.061',\n",
    "    for product in products:\n",
    "        product_folder = os.path.join(output_folder, product)\n",
    "        if not os.path.exists(product_folder):\n",
    "            os.mkdir(product_folder)\n",
    "        modis_downloader = downmodis.downModis(user=\"download_client\", password=\"User0_ROOT\",\n",
    "                                               destinationFolder=product_folder,\n",
    "                                               # url=url,\n",
    "                                               tiles=tiles,\n",
    "                                               # path=remote_path,\n",
    "                                               product=product, today=todate, enddate=fromdate,\n",
    "                                               debug=True, timeout=60)\n",
    "        modis_downloader.connect()\n",
    "        modis_downloader.downloadsAllDay()"
   ]
  },
  {
   "cell_type": "code",
   "execution_count": 5,
   "metadata": {},
   "outputs": [],
   "source": [
    "download_modis()"
   ]
  },
  {
   "cell_type": "code",
   "execution_count": null,
   "metadata": {},
   "outputs": [],
   "source": []
  },
  {
   "cell_type": "code",
   "execution_count": null,
   "metadata": {},
   "outputs": [],
   "source": []
  },
  {
   "cell_type": "code",
   "execution_count": null,
   "metadata": {},
   "outputs": [],
   "source": []
  },
  {
   "cell_type": "code",
   "execution_count": 3,
   "metadata": {},
   "outputs": [],
   "source": [
    "import cdsapi\n",
    "from pathlib import Path"
   ]
  },
  {
   "cell_type": "code",
   "execution_count": 27,
   "metadata": {},
   "outputs": [],
   "source": [
    "c = cdsapi.Client()\n",
    "era5_dataset_path = Path(r'C:\\stuff_pract\\CxC_hackaton\\era5')\n",
    "fromyear = 2021\n",
    "toyear = 2021"
   ]
  },
  {
   "cell_type": "code",
   "execution_count": 28,
   "metadata": {},
   "outputs": [
    {
     "name": "stderr",
     "output_type": "stream",
     "text": [
      "2024-02-20 21:06:52,764 INFO Welcome to the CDS\n",
      "2024-02-20 21:06:52,768 INFO Sending request to https://cds.climate.copernicus.eu/api/v2/resources/reanalysis-era5-land\n",
      "2024-02-20 21:06:53,005 INFO Request is queued\n",
      "2024-02-20 22:42:25,381 INFO Request is running\n",
      "2024-02-20 22:51:11,732 INFO Request is completed\n",
      "2024-02-20 22:51:11,743 INFO Downloading https://download-0020.copernicus-climate.eu/cache-compute-0020/cache/data1/adaptor.mars.internal-1708487419.586773-5343-7-84935ac0-5607-4e4c-8372-8f09bbe48b09.nc to C:\\stuff_pract\\CxC_hackaton\\era5\\era5_2021.nc (78.1M)\n",
      "2024-02-20 22:52:15,308 INFO Download rate 1.2M/s   \n"
     ]
    },
    {
     "data": {
      "text/plain": [
       "Result(content_length=81846128,content_type=application/x-netcdf,location=https://download-0020.copernicus-climate.eu/cache-compute-0020/cache/data1/adaptor.mars.internal-1708487419.586773-5343-7-84935ac0-5607-4e4c-8372-8f09bbe48b09.nc)"
      ]
     },
     "execution_count": 28,
     "metadata": {},
     "output_type": "execute_result"
    }
   ],
   "source": [
    "c.retrieve(\n",
    "    'reanalysis-era5-land',\n",
    "    {\n",
    "        'variable': [\n",
    "            '10m_u_component_of_wind', '10m_v_component_of_wind', '2m_dewpoint_temperature',\n",
    "            '2m_temperature', 'total_precipitation',\n",
    "        ],\n",
    "        'year': list(range(fromyear, toyear + 1)),\n",
    "        'month': [\n",
    "            '01', '02', '03',\n",
    "            '04', '05', '06',\n",
    "            '07', '08', '09',\n",
    "            '10', '11', '12',\n",
    "        ],\n",
    "        'day': [\n",
    "            '01', '02', '03',\n",
    "            '04', '05', '06',\n",
    "            '07', '08', '09',\n",
    "            '10', '11', '12',\n",
    "            '13', '14', '15',\n",
    "            '16', '17', '18',\n",
    "            '19', '20', '21',\n",
    "            '22', '23', '24',\n",
    "            '25', '26', '27',\n",
    "            '28', '29', '30',\n",
    "            '31',\n",
    "        ],\n",
    "        'time': ['00:00', '12:00', \n",
    "        ],\n",
    "        'area': [\n",
    "            60, -120, 49, -110  # Updated area extent for Alberta\n",
    "        ],\n",
    "        'format': 'netcdf', \n",
    "    },\n",
    "    era5_dataset_path / 'era5_2021.nc')"
   ]
  },
  {
   "cell_type": "code",
   "execution_count": null,
   "metadata": {},
   "outputs": [
    {
     "data": {
      "text/plain": [
       "'./era5'"
      ]
     },
     "execution_count": 12,
     "metadata": {},
     "output_type": "execute_result"
    }
   ],
   "source": [
    "era5_dataset_path"
   ]
  },
  {
   "cell_type": "code",
   "execution_count": null,
   "metadata": {},
   "outputs": [],
   "source": []
  }
 ],
 "metadata": {
  "kernelspec": {
   "display_name": "base",
   "language": "python",
   "name": "python3"
  },
  "language_info": {
   "codemirror_mode": {
    "name": "ipython",
    "version": 3
   },
   "file_extension": ".py",
   "mimetype": "text/x-python",
   "name": "python",
   "nbconvert_exporter": "python",
   "pygments_lexer": "ipython3",
   "version": "3.8.12"
  }
 },
 "nbformat": 4,
 "nbformat_minor": 2
}
